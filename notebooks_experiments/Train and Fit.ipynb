{
 "metadata": {
  "name": "",
  "signature": "sha256:b7228f68475267ff3cbc2d4c714b3d2fcb8e5dc492f71a5a3d7e620a4e3b740a"
 },
 "nbformat": 3,
 "nbformat_minor": 0,
 "worksheets": [
  {
   "cells": [
    {
     "cell_type": "heading",
     "level": 2,
     "metadata": {},
     "source": [
      "Importing"
     ]
    },
    {
     "cell_type": "code",
     "collapsed": false,
     "input": [
      "%matplotlib inline\n",
      "from menpo.visualize import visualize_images\n",
      "from menpofit.visualize import visualize_shape_model, visualize_fitting_results\n",
      "from menpo.landmark import ibug_face_49, ibug_face_51, ibug_face_68, ibug_face_66\n",
      "\n",
      "from antonakoscvpr2015.benchmark.base import train_aps, fit_aps\n",
      "from antonakoscvpr2015.utils.base import plot_deformation_model, plot_appearance_graph, plot_shape_graph"
     ],
     "language": "python",
     "metadata": {},
     "outputs": []
    },
    {
     "cell_type": "heading",
     "level": 2,
     "metadata": {},
     "source": [
      "Options"
     ]
    },
    {
     "cell_type": "heading",
     "level": 5,
     "metadata": {},
     "source": [
      "General Options"
     ]
    },
    {
     "cell_type": "code",
     "collapsed": false,
     "input": [
      "experiments_path = '/home/ea1812/Desktop/EXPERIMENTS/'\n",
      "fast = True\n",
      "group = ibug_face_66\n",
      "verbose = True"
     ],
     "language": "python",
     "metadata": {},
     "outputs": []
    },
    {
     "cell_type": "heading",
     "level": 5,
     "metadata": {},
     "source": [
      "Training Options"
     ]
    },
    {
     "cell_type": "code",
     "collapsed": false,
     "input": [
      "training_images_options = {'path_to_images':'/home/ea1812/Desktop/data/nontas/Documents/Research/Databases/LFPWtrain/trainset/',\n",
      "                           'db_name':'lfpwtrain',\n",
      "                           'crop_percentage':0.5}\n",
      "training_options = {'features':'no_op',                 # {'no_op', 'igo', 'double_igo', 'sift'}\n",
      "                    'graph_deformation':'mst_66',       # see benchmark.base.parse_deformation_graph()\n",
      "                    'graph_appearance':'chain_per_area_66',# see benchmark.base.parse_appearance_graph()\n",
      "                    'graph_shape':'full_single_gaussian',             # see benchmark.base.parse_appearance_graph()\n",
      "                    'patch_shape':(17, 17),             # {(13, 13), (15, 15), (17, 17), (19, 19), (21, 21)}\n",
      "                    'normalization_diagonal':100,       # {100, 150}\n",
      "                    'n_levels':2,                       # 2\n",
      "                    'downscale':2,                      # {2, 1.5}\n",
      "                    'scaled_shape_models':False,        # {False, True}\n",
      "                    'use_procrustes':True,              # {True, False}\n",
      "                    'n_appearance_parameters':150}      # {50, 100, 150, 200, 400}\n",
      "save_model = True"
     ],
     "language": "python",
     "metadata": {},
     "outputs": []
    },
    {
     "cell_type": "heading",
     "level": 5,
     "metadata": {},
     "source": [
      "Fitting Options"
     ]
    },
    {
     "cell_type": "code",
     "collapsed": false,
     "input": [
      "fitting_options = {'algorithm': 'inverse', # {'forward', 'inverse'}\n",
      "                   'n_shape': [3, 12],\n",
      "                   'use_deformation': False,\n",
      "                   'noise_std': 0.04,\n",
      "                   'max_iters': 50}\n",
      "\n",
      "#fitting_images_options = {'path_to_images':'/home/ea1812/Documents/databases/lfpw/testset/',\n",
      "#                          'db_name':'lfpwtest',\n",
      "#                          'crop_percentage':0.5}\n",
      "\n",
      "fitting_images_options = {'path_to_images':'/home/ea1812/Documents/databases/afw/',\n",
      "                          'db_name':'afw',\n",
      "                          'crop_percentage':0.5}"
     ],
     "language": "python",
     "metadata": {},
     "outputs": []
    },
    {
     "cell_type": "heading",
     "level": 2,
     "metadata": {},
     "source": [
      "Train Model"
     ]
    },
    {
     "cell_type": "code",
     "collapsed": false,
     "input": [
      "aps, model_filename, training_images = train_aps(experiments_path, fast, group, training_images_options, training_options, save_model, verbose)"
     ],
     "language": "python",
     "metadata": {},
     "outputs": []
    },
    {
     "cell_type": "heading",
     "level": 2,
     "metadata": {},
     "source": [
      "Fit Model"
     ]
    },
    {
     "cell_type": "code",
     "collapsed": false,
     "input": [
      "fitting_results, results_filename = fit_aps(aps, model_filename, experiments_path, fast, group, fitting_images_options, fitting_options, verbose)"
     ],
     "language": "python",
     "metadata": {},
     "outputs": []
    },
    {
     "cell_type": "heading",
     "level": 2,
     "metadata": {},
     "source": [
      "Visualize"
     ]
    },
    {
     "cell_type": "code",
     "collapsed": false,
     "input": [
      "visualize_images(training_images)"
     ],
     "language": "python",
     "metadata": {},
     "outputs": []
    },
    {
     "cell_type": "code",
     "collapsed": false,
     "input": [
      "plot_deformation_model(aps, 0, 1)"
     ],
     "language": "python",
     "metadata": {},
     "outputs": []
    },
    {
     "cell_type": "code",
     "collapsed": false,
     "input": [
      "plot_shape_graph(aps, 0)"
     ],
     "language": "python",
     "metadata": {},
     "outputs": []
    },
    {
     "cell_type": "code",
     "collapsed": false,
     "input": [
      "plot_appearance_graph(aps, 0)"
     ],
     "language": "python",
     "metadata": {},
     "outputs": []
    },
    {
     "cell_type": "code",
     "collapsed": false,
     "input": [
      "print range(16)"
     ],
     "language": "python",
     "metadata": {},
     "outputs": []
    },
    {
     "cell_type": "code",
     "collapsed": false,
     "input": [
      "visualize_fitting_results(fitting_results)"
     ],
     "language": "python",
     "metadata": {},
     "outputs": []
    },
    {
     "cell_type": "code",
     "collapsed": false,
     "input": [
      "aps.view_widget(n_parameters=None, mode='single', parameters_bounds=(-10., 10.))"
     ],
     "language": "python",
     "metadata": {},
     "outputs": []
    },
    {
     "cell_type": "code",
     "collapsed": false,
     "input": [
      "print aps.appearance_models[0][0].shape"
     ],
     "language": "python",
     "metadata": {},
     "outputs": []
    },
    {
     "cell_type": "code",
     "collapsed": false,
     "input": [],
     "language": "python",
     "metadata": {},
     "outputs": []
    }
   ],
   "metadata": {}
  }
 ]
}