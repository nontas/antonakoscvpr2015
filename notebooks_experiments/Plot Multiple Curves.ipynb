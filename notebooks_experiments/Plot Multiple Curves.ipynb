{
 "metadata": {
  "name": "",
  "signature": "sha256:77ac84603b435dd5c5fe8d43c1dd6b8ecedb57d897b8c3176ce4255e558ab8e5"
 },
 "nbformat": 3,
 "nbformat_minor": 0,
 "worksheets": [
  {
   "cells": [
    {
     "cell_type": "heading",
     "level": 2,
     "metadata": {},
     "source": [
      "Importing"
     ]
    },
    {
     "cell_type": "code",
     "collapsed": false,
     "input": [
      "%matplotlib inline\n",
      "import os.path\n",
      "\n",
      "from menpo.visualize import visualize_images\n",
      "from menpofit.visualize import visualize_shape_model, visualize_fitting_results, plot_ced\n",
      "\n",
      "from antonakoscvpr2015.benchmark.base import train_aps, fit_aps\n",
      "from antonakoscvpr2015.utils.base import pickle_load "
     ],
     "language": "python",
     "metadata": {},
     "outputs": []
    },
    {
     "cell_type": "heading",
     "level": 2,
     "metadata": {},
     "source": [
      "Define Results Filenames"
     ]
    },
    {
     "cell_type": "code",
     "collapsed": false,
     "input": [
      "experiments_path = '/home/ea1812/Desktop/EXPERIMENTS/'\n",
      "\n",
      "final_paths = []\n",
      "final_paths.append('lfpwtrain_ibug_face_68_no_op_def-mst_68_app-per_facial_area_patch17_norm100_lev2_sc20_app100_noScaledShape_procrustes__lfpwtest_ibug_face_68_inverse_n_sh[3, 12]_noDef_noise4_iters50_menpo.pickle')\n",
      "final_paths.append('lfpwtrain_ibug_face_68_no_op_def-mst_68_app-diagonal_patch17_norm100_lev2_sc20_app100_noScaledShape_procrustes__lfpwtest_ibug_face_68_inverse_n_sh[3, 12]_noDef_noise4_iters50_menpo.pickle')\n",
      "final_paths.append('lfpwtrain_ibug_face_68_no_op_def-mst_68_app-full_patch17_norm100_lev2_sc20_app100_noScaledShape_procrustes__lfpwtest_ibug_face_68_inverse_n_sh[3, 12]_noDef_noise4_iters50_menpo.pickle')\n",
      "\n",
      "initial_paths = []\n",
      "initial_paths.append('lfpwtrain_ibug_face_68_no_op_def-mst_68_app-per_facial_area_patch17_norm100_lev2_sc20_app100_noScaledShape_procrustes__lfpwtest_ibug_face_68_inverse_n_sh[3, 12]_noDef_noise4_iters50_menpo.pickle')"
     ],
     "language": "python",
     "metadata": {},
     "outputs": []
    },
    {
     "cell_type": "code",
     "collapsed": false,
     "input": [
      "legend_entries = ['graph',\n",
      "                  'diag',\n",
      "                  'full',\n",
      "                  'init']"
     ],
     "language": "python",
     "metadata": {},
     "outputs": []
    },
    {
     "cell_type": "heading",
     "level": 2,
     "metadata": {},
     "source": [
      "Get Errors"
     ]
    },
    {
     "cell_type": "code",
     "collapsed": false,
     "input": [
      "final_errors = []\n",
      "for p in final_paths:\n",
      "    f_errors, _ = pickle_load(os.path.join(experiments_path, 'Results', p))\n",
      "    final_errors.append(f_errors)\n",
      "    \n",
      "initial_errors = []\n",
      "for p in initial_paths:\n",
      "    _, i_errors = pickle_load(os.path.join(experiments_path, 'Results', p))\n",
      "    initial_errors.append(i_errors)\n",
      "    \n",
      "all_errors = final_errors + initial_errors"
     ],
     "language": "python",
     "metadata": {},
     "outputs": []
    },
    {
     "cell_type": "heading",
     "level": 2,
     "metadata": {},
     "source": [
      "Plot Curves"
     ]
    },
    {
     "cell_type": "code",
     "collapsed": false,
     "input": [
      "range()"
     ],
     "language": "python",
     "metadata": {},
     "outputs": []
    },
    {
     "cell_type": "code",
     "collapsed": false,
     "input": [
      "plot_ced(all_errors, legend_entries=legend_entries, popup=False)"
     ],
     "language": "python",
     "metadata": {},
     "outputs": []
    },
    {
     "cell_type": "code",
     "collapsed": false,
     "input": [],
     "language": "python",
     "metadata": {},
     "outputs": []
    },
    {
     "cell_type": "code",
     "collapsed": false,
     "input": [],
     "language": "python",
     "metadata": {},
     "outputs": []
    }
   ],
   "metadata": {}
  }
 ]
}