{
 "metadata": {
  "name": "",
  "signature": "sha256:c411630b4a511b7a1ae73a3d57817e8081fc073ded042bfa2a6b67b047eed46e"
 },
 "nbformat": 3,
 "nbformat_minor": 0,
 "worksheets": [
  {
   "cells": [
    {
     "cell_type": "markdown",
     "metadata": {},
     "source": [
      "Commands to run on debug mode in order to check if everything looks fine:"
     ]
    },
    {
     "cell_type": "raw",
     "metadata": {},
     "source": [
      "import matplotlib.pyplot as plt; import numpy as np; from menpo.image import Image\n",
      "k = 37; c = 1; n_ch = 3\n",
      "\n",
      "l1 = 17 * 17 * n_ch; ind1 = np.arange(k * l1, (k+1) * l1, 1); ind2 = np.arange(k * l1 + c, (k+1) * l1, n_ch)\n",
      "\n",
      "Image(vec_i[ind1].reshape(17, 17, n_ch)).view(); plt.show()\n",
      "Image(vec_i[ind2].reshape(17, 17)).view(); plt.show()\n",
      "\n",
      "Image(e[ind1].reshape(17, 17, n_ch)).view(); plt.show()\n",
      "Image(e[ind2].reshape(17, 17)).view(); plt.show()\n",
      "\n",
      "dd = 1\n",
      "Image(nabla_a[dd, c, k, :].reshape(17, 17)).view(); plt.show()\n",
      "\n",
      "Image(j[ind1, 0].reshape(17, 17, n_ch)).view(); plt.show()\n",
      "Image(j[ind2, 0].reshape(17, 17)).view(); plt.show()"
     ]
    },
    {
     "cell_type": "code",
     "collapsed": false,
     "input": [],
     "language": "python",
     "metadata": {},
     "outputs": []
    }
   ],
   "metadata": {}
  }
 ]
}