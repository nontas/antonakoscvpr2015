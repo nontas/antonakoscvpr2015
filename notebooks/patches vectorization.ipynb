{
 "metadata": {
  "name": "",
  "signature": "sha256:e2ce4cd72fc01a1c7cb848731ce9f78c9035b33c729c26e2716a5eb5bc4c0e0c"
 },
 "nbformat": 3,
 "nbformat_minor": 0,
 "worksheets": [
  {
   "cells": [
    {
     "cell_type": "code",
     "collapsed": false,
     "input": [
      "import menpo.io as mio\n",
      "\n",
      "image = mio.import_builtin_asset.takeo_ppm()\n",
      "image.crop_to_landmarks_proportion_inplace(0.3)\n",
      "image = image.as_greyscale()\n",
      "\n",
      "image2 = mio.import_builtin_asset.breakingbad_jpg()\n",
      "image2.crop_to_landmarks_proportion_inplace(0.3)\n",
      "\n",
      "%matplotlib inline\n",
      "image2.view_landmarks()"
     ],
     "language": "python",
     "metadata": {},
     "outputs": []
    },
    {
     "cell_type": "code",
     "collapsed": false,
     "input": [
      "import numpy as np\n",
      "\n",
      "def extract_patch_vectors(image, group, label, patch_size,\n",
      "                          normalize_patches=False):\n",
      "    r\"\"\"\n",
      "    returns a numpy.array of size (16*16*36) x 68\n",
      "    \"\"\"\n",
      "    # extract patches\n",
      "    patches = image.extract_patches_around_landmarks(\n",
      "        group=group, label=label, patch_size=patch_size,\n",
      "        as_single_array=not normalize_patches)\n",
      "\n",
      "    # vectorize patches\n",
      "    if normalize_patches:\n",
      "        # initialize output matrix\n",
      "        patches_vectors = np.empty(\n",
      "            (np.prod(patches[0].shape) * patches[0].n_channels, len(patches)))\n",
      "\n",
      "        # extract each vector\n",
      "        for p in range(len(patches)):\n",
      "            # normalize part\n",
      "            patches[p].normalize_norm_inplace()\n",
      "\n",
      "            # extract vector\n",
      "            patches_vectors[:, p] = patches[p].as_vector()\n",
      "    else:\n",
      "        # initialize output matrix\n",
      "        patches_vectors = np.empty((np.prod(patches.shape[1:]),\n",
      "                                    patches.shape[0]))\n",
      "\n",
      "        # extract each vector\n",
      "        for p in range(patches.shape[0]):\n",
      "            patches_vectors[:, p] = patches[p, ...].ravel()\n",
      "\n",
      "    # return vectorized parts\n",
      "    return patches_vectors\n",
      "\n",
      "def vectorize_joan(patches):\n",
      "    n_points = patches.shape[1]\n",
      "    patch_len = patches.shape[0]\n",
      "    app_len = patch_len * n_points\n",
      "    app_mean = np.empty(app_len)\n",
      "    for e in range(n_points):\n",
      "        i_from = e * patch_len\n",
      "        i_to = (e + 1) * patch_len\n",
      "        app_mean[i_from:i_to] = patches[..., e]\n",
      "    return app_mean"
     ],
     "language": "python",
     "metadata": {},
     "outputs": []
    },
    {
     "cell_type": "code",
     "collapsed": false,
     "input": [
      "from cvpr15.utils import build_patches_image, vectorize_patches_image"
     ],
     "language": "python",
     "metadata": {},
     "outputs": []
    },
    {
     "cell_type": "code",
     "collapsed": false,
     "input": [
      "from menpo.image import Image\n",
      "\n",
      "%matplotlib inline\n",
      "\n",
      "k = 44\n",
      "n_channels = 1\n",
      "l = 17 * 17 * n_channels\n",
      "\n",
      "from_i = k * l\n",
      "to_i = (k+1) * l"
     ],
     "language": "python",
     "metadata": {},
     "outputs": []
    },
    {
     "cell_type": "code",
     "collapsed": false,
     "input": [
      "i1 = extract_patch_vectors(image, 'PTS', 'all', (17, 17), normalize_patches=False)\n",
      "vec_i1 = vectorize_joan(i1)\n",
      "\n",
      "print i1.shape\n",
      "print vec_i1.shape\n",
      "\n",
      "Image(vec_i1[from_i:to_i].reshape(17, 17, n_channels)).view()"
     ],
     "language": "python",
     "metadata": {},
     "outputs": []
    },
    {
     "cell_type": "code",
     "collapsed": false,
     "input": [
      "i2 = build_patches_image(image, None, (17, 17))\n",
      "vec_i2 = vectorize_patches_image(i2)\n",
      "\n",
      "print i2.shape\n",
      "print vec_i2.shape\n",
      "\n",
      "Image(vec_i2[from_i:to_i].reshape(17, 17, n_channels)).view()"
     ],
     "language": "python",
     "metadata": {},
     "outputs": []
    },
    {
     "cell_type": "code",
     "collapsed": false,
     "input": [
      "from menpo.image import Image\n",
      "\n",
      "%matplotlib inline\n",
      "\n",
      "k = 37\n",
      "n_channels = 3\n",
      "l = 17 * 17 * n_channels\n",
      "\n",
      "from_i = k * l\n",
      "to_i = (k+1) * l"
     ],
     "language": "python",
     "metadata": {},
     "outputs": []
    },
    {
     "cell_type": "code",
     "collapsed": false,
     "input": [
      "i1 = extract_patch_vectors(image2, 'PTS', 'all', (17, 17), normalize_patches=False)\n",
      "vec_i1 = vectorize_joan(i1)\n",
      "\n",
      "print i1.shape\n",
      "print vec_i1.shape\n",
      "\n",
      "Image(vec_i1[from_i:to_i].reshape(17, 17, n_channels)).view()"
     ],
     "language": "python",
     "metadata": {},
     "outputs": []
    },
    {
     "cell_type": "code",
     "collapsed": false,
     "input": [
      "#i2 = build_patches_image(image2, None, (17, 17))\n",
      "i2 = build_patches_image(image2, image2.landmarks['PTS']['all'], (17, 17))\n",
      "vec_i2 = vectorize_patches_image(i2)\n",
      "\n",
      "print i2.shape\n",
      "print vec_i2.shape\n",
      "\n",
      "Image(vec_i2[from_i:to_i].reshape(17, 17, n_channels)).view()"
     ],
     "language": "python",
     "metadata": {},
     "outputs": []
    },
    {
     "cell_type": "code",
     "collapsed": false,
     "input": [
      "import timeit"
     ],
     "language": "python",
     "metadata": {},
     "outputs": []
    },
    {
     "cell_type": "code",
     "collapsed": false,
     "input": [
      "%%timeit\n",
      "i1 = extract_patch_vectors(image, 'PTS', 'all', (17, 17), normalize_patches=False)\n",
      "vec_i1 = vectorize_joan(i1)"
     ],
     "language": "python",
     "metadata": {},
     "outputs": []
    },
    {
     "cell_type": "code",
     "collapsed": false,
     "input": [
      "%%timeit\n",
      "i2 = build_patches_image(image, None, (17, 17))\n",
      "vec_i2 = vectorize_patches_image(i2)"
     ],
     "language": "python",
     "metadata": {},
     "outputs": []
    },
    {
     "cell_type": "code",
     "collapsed": false,
     "input": [],
     "language": "python",
     "metadata": {},
     "outputs": []
    }
   ],
   "metadata": {}
  }
 ]
}