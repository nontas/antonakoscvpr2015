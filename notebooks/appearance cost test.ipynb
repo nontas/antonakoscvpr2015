{
 "metadata": {
  "name": "",
  "signature": "sha256:d5f46b981dbeee653b4685617d7baa1a0c172fea60a0bd6f976d7119e64a5b46"
 },
 "nbformat": 3,
 "nbformat_minor": 0,
 "worksheets": [
  {
   "cells": [
    {
     "cell_type": "code",
     "collapsed": false,
     "input": [
      "import numpy as np\n",
      "from menpo.shape import UndirectedGraph\n",
      "from scipy.sparse import lil_matrix\n",
      "from menpo.visualize import print_dynamic, progress_bar_str"
     ],
     "language": "python",
     "metadata": {},
     "outputs": []
    },
    {
     "cell_type": "code",
     "collapsed": false,
     "input": [
      "def _covariance_matrix_inverse(cov_mat, n_appearance_parameters):\n",
      "    if n_appearance_parameters is None:\n",
      "        return np.linalg.inv(cov_mat)\n",
      "    else:\n",
      "        s, v, d = np.linalg.svd(cov_mat)\n",
      "        s = s[:, :n_appearance_parameters]\n",
      "        v = v[:n_appearance_parameters]\n",
      "        d = d[:n_appearance_parameters, :]\n",
      "        return s.dot(np.diag(1/v)).dot(d)"
     ],
     "language": "python",
     "metadata": {},
     "outputs": []
    },
    {
     "cell_type": "code",
     "collapsed": false,
     "input": [
      "graph = UndirectedGraph(np.array([[0, 1], [0, 3], [2, 3], [0, 2]]))\n",
      "\n",
      "patch_len = 2\n",
      "\n",
      "n_appearance_parameters = None\n",
      "\n",
      "all_patches_array = np.random.rand(patch_len * graph.n_vertices, 200)\n",
      "\n",
      "# initialize block sparse covariance matrix\n",
      "all_cov = lil_matrix((graph.n_vertices * patch_len,\n",
      "                      graph.n_vertices * patch_len))\n",
      "\n",
      "# compute covariance matrix for each edge\n",
      "for e in range(graph.n_edges):\n",
      "    # edge vertices\n",
      "    v1 = np.min(graph.adjacency_array[e, :])\n",
      "    v2 = np.max(graph.adjacency_array[e, :])\n",
      "\n",
      "    # find indices in target covariance matrix\n",
      "    v1_from = v1 * patch_len\n",
      "    v1_to = (v1 + 1) * patch_len\n",
      "    v2_from = v2 * patch_len\n",
      "    v2_to = (v2 + 1) * patch_len\n",
      "\n",
      "    # extract data\n",
      "    edge_data = np.concatenate((all_patches_array[v1_from:v1_to, :],\n",
      "                                all_patches_array[v2_from:v2_to, :]))\n",
      "\n",
      "    # compute covariance\n",
      "    cov_mat = _covariance_matrix_inverse(np.cov(edge_data), n_appearance_parameters)\n",
      "\n",
      "    # v1, v2\n",
      "    all_cov[v1_from:v1_to, v2_from:v2_to] += cov_mat[:patch_len, patch_len::]\n",
      "    \n",
      "    # v2, v1\n",
      "    all_cov[v2_from:v2_to, v1_from:v1_to] += cov_mat[patch_len::, :patch_len]\n",
      "\n",
      "    # v1, v1\n",
      "    all_cov[v1_from:v1_to, v1_from:v1_to] += cov_mat[:patch_len, :patch_len]\n",
      "    \n",
      "    # v2, v2\n",
      "    all_cov[v2_from:v2_to, v2_from:v2_to] += cov_mat[patch_len::, patch_len::]\n",
      "\n",
      "all_cov = np.array(all_cov.todense())"
     ],
     "language": "python",
     "metadata": {},
     "outputs": []
    },
    {
     "cell_type": "code",
     "collapsed": false,
     "input": [
      "a = np.random.rand(patch_len * graph.n_vertices, 1)\n",
      "print a.T.dot(all_cov).dot(a)"
     ],
     "language": "python",
     "metadata": {},
     "outputs": []
    },
    {
     "cell_type": "code",
     "collapsed": false,
     "input": [
      "res = 0\n",
      "for e in range(graph.n_edges):\n",
      "    # edge vertices\n",
      "    v1 = np.min(graph.adjacency_array[e, :])\n",
      "    v2 = np.max(graph.adjacency_array[e, :])\n",
      "    \n",
      "    # find indices in target covariance matrix\n",
      "    v1_from = v1 * patch_len\n",
      "    v1_to = (v1 + 1) * patch_len\n",
      "    v2_from = v2 * patch_len\n",
      "    v2_to = (v2 + 1) * patch_len\n",
      "    \n",
      "    # extract data\n",
      "    edge_data = np.concatenate((all_patches_array[v1_from:v1_to, :],\n",
      "                                all_patches_array[v2_from:v2_to, :]))\n",
      "    \n",
      "    # compute covariance\n",
      "    cov_mat = _covariance_matrix_inverse(np.cov(edge_data), n_appearance_parameters)\n",
      "    a_tmp = np.concatenate((a[v1_from:v1_to],\n",
      "                            a[v2_from:v2_to]))\n",
      "    \n",
      "    res += a_tmp.T.dot(cov_mat).dot(a_tmp)\n",
      "print res"
     ],
     "language": "python",
     "metadata": {},
     "outputs": []
    },
    {
     "cell_type": "code",
     "collapsed": false,
     "input": [
      "print a.todense()"
     ],
     "language": "python",
     "metadata": {},
     "outputs": []
    },
    {
     "cell_type": "code",
     "collapsed": false,
     "input": [
      "all_patches_array[5:10, :].shape"
     ],
     "language": "python",
     "metadata": {},
     "outputs": []
    },
    {
     "cell_type": "code",
     "collapsed": false,
     "input": [
      "import numpy as np\n",
      "print np.cov(np.random.rand(6, 100))"
     ],
     "language": "python",
     "metadata": {},
     "outputs": []
    },
    {
     "cell_type": "code",
     "collapsed": false,
     "input": [],
     "language": "python",
     "metadata": {},
     "outputs": []
    }
   ],
   "metadata": {}
  }
 ]
}