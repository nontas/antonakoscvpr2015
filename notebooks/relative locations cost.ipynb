{
 "metadata": {
  "name": "",
  "signature": "sha256:e89380d9581c9870c3f7e70c43e2e6521dee222a90433900175d52341f7b611e"
 },
 "nbformat": 3,
 "nbformat_minor": 0,
 "worksheets": [
  {
   "cells": [
    {
     "cell_type": "code",
     "collapsed": false,
     "input": [
      "%matplotlib inline\n",
      "import menpo.io as mio\n",
      "from menpo.feature import no_op, igo, hog, sparse_hog, double_igo\n",
      "import numpy as np\n",
      "\n",
      "# method to load a database\n",
      "def load_database(path_to_images, crop_percentage, max_images=None):\n",
      "    images = []\n",
      "    # load landmarked images\n",
      "    for i in mio.import_images(path_to_images, max_images=max_images, verbose=True):\n",
      "        # crop image\n",
      "        i.crop_to_landmarks_proportion_inplace(crop_percentage)\n",
      "        \n",
      "        # convert it to grayscale if needed\n",
      "        if i.n_channels == 3:\n",
      "            i = i.as_greyscale(mode='luminosity')\n",
      "            \n",
      "        # append it to the list\n",
      "        images.append(i)\n",
      "    return images"
     ],
     "language": "python",
     "metadata": {},
     "outputs": []
    },
    {
     "cell_type": "code",
     "collapsed": false,
     "input": [
      "training_images = load_database('/mnt/data/nontas/train200/', 0.5)"
     ],
     "language": "python",
     "metadata": {},
     "outputs": []
    },
    {
     "cell_type": "code",
     "collapsed": false,
     "input": [
      "from menpofit.builder import normalization_wrt_reference_shape\n",
      "normalization_diagonal = 100\n",
      "group = 'PTS'\n",
      "label = 'all'\n",
      "reference_shape, normalized_images = normalization_wrt_reference_shape(training_images, group, label, normalization_diagonal, verbose=True)\n",
      "all_shapes = [i.landmarks[group][label] for i in normalized_images]"
     ],
     "language": "python",
     "metadata": {},
     "outputs": []
    },
    {
     "cell_type": "code",
     "collapsed": false,
     "input": [
      "from menpo.shape import Tree\n",
      "\n",
      "# Star tree\n",
      "adjacency_array = np.empty((67, 2), dtype=np.int32)\n",
      "for i in range(68):\n",
      "    if i < 34:\n",
      "        adjacency_array[i, 0] = 34\n",
      "        adjacency_array[i, 1] = i\n",
      "    elif i > 34:\n",
      "        adjacency_array[i-1, 0] = 34\n",
      "        adjacency_array[i-1, 1] = i\n",
      "\n",
      "root_vertex = 34\n",
      "\n",
      "tree = Tree(adjacency_array, root_vertex)"
     ],
     "language": "python",
     "metadata": {},
     "outputs": []
    },
    {
     "cell_type": "code",
     "collapsed": false,
     "input": [
      "from menpo.shape import Tree\n",
      "\n",
      "# MST tree\n",
      "adjacency_array = np.array([[ 0,  1], [ 1,  2], [ 2,  3], [ 3,  4], [ 4,  5], [ 5,  6], [ 6,  7], [ 7,  8], [ 8,  9], \n",
      "                            [ 8, 57], [ 9, 10], [57, 58], [57, 56], [57, 66], [10, 11], [58, 59], [56, 55], [66, 67], \n",
      "                            [66, 65], [11, 12], [65, 63], [12, 13], [63, 62], [63, 53], [13, 14], [62, 61], [62, 51],\n",
      "                            [53, 64], [14, 15], [61, 49], [51, 50], [51, 52], [51, 33], [64, 54], [15, 16], [49, 60],\n",
      "                            [33, 32], [33, 34], [33, 29], [60, 48], [32, 31], [34, 35], [29, 30], [29, 28], [28, 27],\n",
      "                            [27, 22], [27, 21], [22, 23], [21, 20], [23, 24], [20, 19], [24, 25], [19, 18], [25, 26],\n",
      "                            [25, 44], [18, 17], [18, 37], [44, 43], [44, 45], [37, 38], [45, 46], [38, 39], [46, 47],\n",
      "                            [39, 40], [47, 42], [40, 41], [41, 36]])\n",
      "root_vertex = 0\n",
      "\n",
      "tree = Tree(adjacency_array, root_vertex)"
     ],
     "language": "python",
     "metadata": {},
     "outputs": []
    },
    {
     "cell_type": "code",
     "collapsed": false,
     "input": [
      "# PDM\n",
      "from menpofit.builder import build_shape_model\n",
      "shape_model = build_shape_model(all_shapes, 100)"
     ],
     "language": "python",
     "metadata": {},
     "outputs": []
    },
    {
     "cell_type": "code",
     "collapsed": false,
     "input": [
      "from cvpr15.builder import _get_relative_locations\n",
      "\n",
      "relative_locations = _get_relative_locations(all_shapes, tree, '', True)"
     ],
     "language": "python",
     "metadata": {},
     "outputs": []
    },
    {
     "cell_type": "code",
     "collapsed": false,
     "input": [
      "def _build_deformation_model(tree, relative_locations, level_str, verbose):\n",
      "    def_len = 2 * tree.n_vertices\n",
      "    def_cov = np.zeros((def_len, def_len))\n",
      "    all_covs = []\n",
      "    all_means = []\n",
      "    for e in range(tree.n_edges):\n",
      "        # get vertices adjacent to edge\n",
      "        parent = tree.adjacency_array[e, 0]\n",
      "        child = tree.adjacency_array[e, 1]\n",
      "\n",
      "        # compute covariance matrix\n",
      "        edge_cov = np.cov(relative_locations[..., e])\n",
      "        all_covs.append(edge_cov)\n",
      "        edge_cov = np.linalg.inv(edge_cov)\n",
      "        all_means.append(np.mean(relative_locations[..., e], axis=1))\n",
      "        \n",
      "        \n",
      "        for l in range()\n",
      "\n",
      "        # store its values\n",
      "        s1 = edge_cov[0, 0]\n",
      "        s2 = edge_cov[1, 1]\n",
      "        s3 = edge_cov[0, 1]\n",
      "        s3_2 = 2 * s3\n",
      "\n",
      "        # Fill the covariance matrix matrix\n",
      "        # get indices\n",
      "        p1 = 2 * parent\n",
      "        p2 = 2 * parent + 1\n",
      "        c1 = 2 * child\n",
      "        c2 = 2 * child + 1\n",
      "\n",
      "        # up-left block\n",
      "        def_cov[p1, p1] += s1\n",
      "        def_cov[p2, p2] += s2\n",
      "        def_cov[p2, p1] += 2 * s3\n",
      "\n",
      "        # up-right block\n",
      "        def_cov[p1, c1] = - s1\n",
      "        def_cov[p2, c2] = - s2\n",
      "        def_cov[p1, c2] = - s3\n",
      "        def_cov[p2, c1] = - s3\n",
      "\n",
      "        # down-left block\n",
      "        def_cov[c1, p1] = - s1\n",
      "        def_cov[c2, p2] = - s2\n",
      "        def_cov[c1, p2] = - s3\n",
      "        def_cov[c2, p1] = - s3\n",
      "\n",
      "        # down-right block\n",
      "        def_cov[c1, c1] += s1\n",
      "        def_cov[c2, c2] += s2\n",
      "        def_cov[c1, c2] += 2 * s3\n",
      "\n",
      "    return def_cov, all_covs, all_means"
     ],
     "language": "python",
     "metadata": {},
     "outputs": []
    },
    {
     "cell_type": "code",
     "collapsed": false,
     "input": [
      "deformation_model, all_covs, all_means = _build_deformation_model(tree, relative_locations, '', True)\n",
      "print deformation_model.shape\n",
      "print len(all_covs)\n",
      "print len(all_means)"
     ],
     "language": "python",
     "metadata": {},
     "outputs": []
    },
    {
     "cell_type": "code",
     "collapsed": false,
     "input": [
      "# CHECK IF: E(li-lj) = E(li) - E(lj)\n",
      "e = 1\n",
      "parent = tree.adjacency_array[e, 0]\n",
      "child = tree.adjacency_array[e, 1]\n",
      "\n",
      "print all_means[e]\n",
      "print shape_model.mean().points[child, :] - shape_model.mean().points[parent, :]"
     ],
     "language": "python",
     "metadata": {},
     "outputs": []
    },
    {
     "cell_type": "code",
     "collapsed": false,
     "input": [
      "# CHECK IF SUM COST AND MATRIX COST ARE EQUAL\n",
      "from menpo.shape import PointTree\n",
      "\n",
      "shape = all_shapes[15]\n",
      "\n",
      "pointtree = PointTree(shape.points, tree.adjacency_array, tree.root_vertex)\n",
      "cost1 = 0\n",
      "for e in range(tree.n_edges):\n",
      "    parent = tree.adjacency_array[e, 0]\n",
      "    child = tree.adjacency_array[e, 1]\n",
      "    \n",
      "    d = pointtree.relative_location_edge(parent, child) - all_means[e]\n",
      "    \n",
      "    cost1 += d.T.dot(np.linalg.inv(all_covs[e])).dot(d)\n",
      "\n",
      "d = shape.as_vector() - shape_model.mean().as_vector()\n",
      "cost2 = d.T.dot(deformation_model).dot(d)\n",
      "print cost1, cost2"
     ],
     "language": "python",
     "metadata": {},
     "outputs": []
    },
    {
     "cell_type": "code",
     "collapsed": false,
     "input": [
      "# PLOT GAUSSIANS\n",
      "from cvpr15.utils import plot_gaussian_ellipse\n",
      "import matplotlib.pyplot as plt\n",
      "\n",
      "mean_shape = shape_model.mean().points\n",
      "for e in range(tree.n_edges):\n",
      "    # find vertices\n",
      "    parent = tree.adjacency_array[e, 0]\n",
      "    child = tree.adjacency_array[e, 1]\n",
      "    \n",
      "    # relative location mean\n",
      "    rel_loc_mean = mean_shape[child, :] - mean_shape[parent, :]\n",
      "    \n",
      "    # plot ellipse\n",
      "    plot_gaussian_ellipse(all_covs[e], mean_shape[parent, :] + rel_loc_mean, n_std=2, facecolor='none', edgecolor='r')\n",
      "\n",
      "# plot mean shape points\n",
      "shape_model.mean().view_on(plt.gcf().number)\n",
      "\n",
      "# create and plto edge connections\n",
      "PointTree(mean_shape, tree.adjacency_array, tree.root_vertex).view_on(plt.gcf().number)"
     ],
     "language": "python",
     "metadata": {},
     "outputs": []
    },
    {
     "cell_type": "code",
     "collapsed": false,
     "input": [],
     "language": "python",
     "metadata": {},
     "outputs": []
    }
   ],
   "metadata": {}
  }
 ]
}