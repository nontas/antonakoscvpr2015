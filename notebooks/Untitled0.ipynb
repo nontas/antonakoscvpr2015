{
 "metadata": {
  "name": "",
  "signature": "sha256:55c6c62c1ca34aa8d83fc0b09b6b456fc608e79007f56d29aabd98737f6e34be"
 },
 "nbformat": 3,
 "nbformat_minor": 0,
 "worksheets": [
  {
   "cells": [
    {
     "cell_type": "code",
     "collapsed": false,
     "input": [
      "%matplotlib inline\n",
      "import menpo.io as mio\n",
      "from menpo.feature import no_op, igo, hog, sparse_hog, double_igo\n",
      "import numpy as np\n",
      "from menpo.landmark import labeller, ibug_face_68\n",
      "\n",
      "# method to load a database\n",
      "def load_database(path_to_images, crop_percentage, max_images=None):\n",
      "    images = []\n",
      "    # load landmarked images\n",
      "    for i in mio.import_images(path_to_images, max_images=max_images, verbose=True):\n",
      "        # crop image\n",
      "        i.crop_to_landmarks_proportion_inplace(crop_percentage)\n",
      "        \n",
      "        labeller(i, 'PTS', ibug_face_68)\n",
      "        \n",
      "        # convert it to grayscale if needed\n",
      "        if i.n_channels == 3:\n",
      "            i = i.as_greyscale(mode='luminosity')\n",
      "            \n",
      "        # append it to the list\n",
      "        images.append(i)\n",
      "    return images"
     ],
     "language": "python",
     "metadata": {},
     "outputs": []
    },
    {
     "cell_type": "code",
     "collapsed": false,
     "input": [
      "#training_images = load_database('/mnt/data/nontas/trainset/', 0.5)\n",
      "#training_images = load_database('/mnt/data/nontas/train200/', 0.5)\n",
      "training_images = load_database('/home/ea1812/Desktop/data/nontas/Documents/Research/Databases/LFPWtrain/trainset/', 0.5, max_images=5)\n",
      "#fitting_images = load_database('/home/ea1812/Desktop/data/nontas/Documents/Research/Databases/LFPWtest/testset/', 0.5)"
     ],
     "language": "python",
     "metadata": {},
     "outputs": []
    },
    {
     "cell_type": "code",
     "collapsed": false,
     "input": [
      "i = training_images[0]\n",
      "print i.landmarks.\n",
      "print i"
     ],
     "language": "python",
     "metadata": {},
     "outputs": []
    },
    {
     "cell_type": "code",
     "collapsed": false,
     "input": [
      "# Star tree\n",
      "adjacency_array = np.empty((67, 2), dtype=np.int32)\n",
      "for i in range(68):\n",
      "    if i < 34:\n",
      "        adjacency_array[i, 0] = 34\n",
      "        adjacency_array[i, 1] = i\n",
      "    elif i > 34:\n",
      "        adjacency_array[i-1, 0] = 34\n",
      "        adjacency_array[i-1, 1] = i\n",
      "\n",
      "root_vertex = 34"
     ],
     "language": "python",
     "metadata": {},
     "outputs": []
    },
    {
     "cell_type": "code",
     "collapsed": false,
     "input": [
      "# MST tree\n",
      "adjacency_array = np.array([[ 0,  1], [ 1,  2], [ 2,  3], [ 3,  4], [ 4,  5], [ 5,  6], [ 6,  7], [ 7,  8], [ 8,  9], \n",
      "                            [ 8, 57], [ 9, 10], [57, 58], [57, 56], [57, 66], [10, 11], [58, 59], [56, 55], [66, 67], \n",
      "                            [66, 65], [11, 12], [65, 63], [12, 13], [63, 62], [63, 53], [13, 14], [62, 61], [62, 51],\n",
      "                            [53, 64], [14, 15], [61, 49], [51, 50], [51, 52], [51, 33], [64, 54], [15, 16], [49, 60],\n",
      "                            [33, 32], [33, 34], [33, 29], [60, 48], [32, 31], [34, 35], [29, 30], [29, 28], [28, 27],\n",
      "                            [27, 22], [27, 21], [22, 23], [21, 20], [23, 24], [20, 19], [24, 25], [19, 18], [25, 26],\n",
      "                            [25, 44], [18, 17], [18, 37], [44, 43], [44, 45], [37, 38], [45, 46], [38, 39], [46, 47],\n",
      "                            [39, 40], [47, 42], [40, 41], [41, 36], [0, 17], [16, 26]])\n",
      "root_vertex = None"
     ],
     "language": "python",
     "metadata": {},
     "outputs": []
    },
    {
     "cell_type": "code",
     "collapsed": false,
     "input": [
      "from antonakoscvpr2015.menpo.builder import APSBuilder"
     ],
     "language": "python",
     "metadata": {},
     "outputs": []
    },
    {
     "cell_type": "code",
     "collapsed": false,
     "input": [
      "aps = APSBuilder(adjacency_array=adjacency_array, \n",
      "                 root_vertex=root_vertex, \n",
      "                 features=no_op, \n",
      "                 patch_shape=(17, 17),\n",
      "                 normalization_diagonal=100,\n",
      "                 n_levels=2, \n",
      "                 downscale=2, \n",
      "                 scaled_shape_models=True,\n",
      "                 max_shape_components=None,\n",
      "                 n_appearance_parameters=100,\n",
      "                 use_procrustes=True).build(training_images, group='ibug_face_68', verbose=True)"
     ],
     "language": "python",
     "metadata": {},
     "outputs": []
    },
    {
     "cell_type": "code",
     "collapsed": false,
     "input": [
      "print aps.shape_models[0].mean().points"
     ],
     "language": "python",
     "metadata": {},
     "outputs": []
    },
    {
     "cell_type": "code",
     "collapsed": false,
     "input": [
      "# save model\n",
      "from cvpr15.utils import pickle_dump, pickle_load\n",
      "\n",
      "#pickle_dump(aps, '/home/ea1812/Desktop/model_doubleIgo_withoutProcrustes.pickle')\n",
      "\n",
      "aps = pickle_load('/home/ea1812/Desktop/model_doubleIgo_withProcrustes.pickle')"
     ],
     "language": "python",
     "metadata": {},
     "outputs": []
    },
    {
     "cell_type": "code",
     "collapsed": false,
     "input": [
      "from menpofit.visualize import visualize_shape_model\n",
      "%matplotlib inline\n",
      "visualize_shape_model(aps.shape_models)"
     ],
     "language": "python",
     "metadata": {},
     "outputs": []
    },
    {
     "cell_type": "code",
     "collapsed": false,
     "input": [
      "aps.random_instance(as_tree=True).view()"
     ],
     "language": "python",
     "metadata": {},
     "outputs": []
    },
    {
     "cell_type": "code",
     "collapsed": false,
     "input": [
      "# PLOT GAUSSIANS\n",
      "from cvpr15.utils import plot_gaussian_ellipse\n",
      "import matplotlib.pyplot as plt\n",
      "from menpo.shape import PointTree\n",
      "import numpy as np\n",
      "\n",
      "m = 0\n",
      "\n",
      "cov = aps.appearance_models[m][1]\n",
      "mean_shape = aps.shape_models[m].mean().points\n",
      "for e in range(aps.tree.n_edges):\n",
      "    # find vertices\n",
      "    parent = aps.tree.adjacency_array[e, 0]\n",
      "    child = aps.tree.adjacency_array[e, 1]\n",
      "    \n",
      "    # relative location mean\n",
      "    rel_loc_mean = mean_shape[child, :] - mean_shape[parent, :]\n",
      "    \n",
      "    # relative location cov\n",
      "    n_points = aps.deformation_models[0].shape[0] / 2\n",
      "    s1 = -aps.deformation_models[m][2*child, 2*parent]\n",
      "    s2 = -aps.deformation_models[m][2*child+1, 2*parent+1]\n",
      "    s3 = -aps.deformation_models[m][2*child, 2*parent+1]\n",
      "    cov_mat = np.linalg.inv(np.array([[s1, s3], [s3, s2]]))\n",
      "    \n",
      "    # plot ellipse\n",
      "    plot_gaussian_ellipse(cov_mat, mean_shape[parent, :] + rel_loc_mean, n_std=2, facecolor='none', edgecolor='r')\n",
      "\n",
      "# plot mean shape points\n",
      "aps.shape_models[m].mean().view_on(plt.gcf().number)\n",
      "\n",
      "# create and plto edge connections\n",
      "PointTree(mean_shape, aps.tree.adjacency_array, aps.tree.root_vertex).view_on(plt.gcf().number)"
     ],
     "language": "python",
     "metadata": {},
     "outputs": []
    },
    {
     "cell_type": "code",
     "collapsed": false,
     "input": [
      "from antonakoscvpr2015.menpo.fitter import LucasKanadeAPSFitter\n",
      "from antonakoscvpr2015.menpo.algorithm import Forward, Inverse\n",
      "\n",
      "fitter = LucasKanadeAPSFitter(aps, algorithm=Inverse, n_shape=[3, 6])"
     ],
     "language": "python",
     "metadata": {},
     "outputs": []
    },
    {
     "cell_type": "code",
     "collapsed": false,
     "input": [
      "from menpo.visualize import progress_bar_str, print_dynamic\n",
      "\n",
      "fitting_results = []\n",
      "perc1 = 0.\n",
      "perc2 = 0.\n",
      "n_images = len(fitting_images)\n",
      "for j, i in enumerate(fitting_images):\n",
      "    gt_s = i.landmarks['PTS'].lms\n",
      "    initial_s = fitter.perturb_shape(gt_s, noise_std=0.04)\n",
      "    fitting_result = fitter.fit(i, initial_s, gt_shape=gt_s)\n",
      "    fitting_results.append(fitting_result)\n",
      "\n",
      "    # print\n",
      "    final_error = fitting_result.final_error(error_type='me_norm')\n",
      "    initial_error = fitting_result.initial_error(error_type='me_norm')\n",
      "    if final_error <= 0.03:\n",
      "        perc1 += 1.\n",
      "    if final_error <= 0.04:\n",
      "        perc2 += 1.\n",
      "    print_dynamic('- {0} - [<=0.03: {1:.1f}%, <=0.04: {2:.1f}%] - '\n",
      "                  'Image {3}/{4} (error: {5:.3f} --> {6:.3f})'.format(\n",
      "        progress_bar_str(float(j + 1.) / n_images, show_bar=False),\n",
      "        perc1 * 100. / n_images, perc2 * 100. / n_images, j + 1,\n",
      "        n_images, initial_error, final_error))\n",
      "    \n",
      "print_dynamic('- Fitting completed: [<=0.03: {0:.1f}%, <=0.04: '\n",
      "              '{1:.1f}%]\\n'.format(perc1 * 100. / n_images,\n",
      "                                   perc2 * 100. / n_images))"
     ],
     "language": "python",
     "metadata": {},
     "outputs": []
    },
    {
     "cell_type": "code",
     "collapsed": false,
     "input": [
      "%matplotlib inline\n",
      "from menpofit.visualize import visualize_fitting_results\n",
      "visualize_fitting_results(fitting_results)"
     ],
     "language": "python",
     "metadata": {},
     "outputs": []
    },
    {
     "cell_type": "code",
     "collapsed": false,
     "input": [],
     "language": "python",
     "metadata": {},
     "outputs": []
    }
   ],
   "metadata": {}
  }
 ]
}