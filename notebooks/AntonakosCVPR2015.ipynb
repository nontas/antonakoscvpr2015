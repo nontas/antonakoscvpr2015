{
 "metadata": {
  "name": "",
  "signature": "sha256:0d42d92eebdf28ba4bf68eb8bd05f3fdd7ebd7e41d6dc1029d03e19ca099c323"
 },
 "nbformat": 3,
 "nbformat_minor": 0,
 "worksheets": [
  {
   "cells": [
    {
     "cell_type": "code",
     "collapsed": false,
     "input": [
      "%matplotlib inline\n",
      "%pylab inline"
     ],
     "language": "python",
     "metadata": {},
     "outputs": []
    },
    {
     "cell_type": "heading",
     "level": 2,
     "metadata": {},
     "source": [
      "Load training data"
     ]
    },
    {
     "cell_type": "code",
     "collapsed": false,
     "input": [
      "import menpo.io as mio\n",
      "from menpo.landmark import labeller, ibug_face_66\n",
      "from menpofast.utils import convert_from_menpo\n",
      "\n",
      "training_images = []\n",
      "for i in mio.import_images('/data/PhD/DataBases/faces/lfpw/trainset/', verbose=True, max_images=None):\n",
      "    \n",
      "    # convert the image from menpo Image to menpofast Image (channels at front)\n",
      "    i = convert_from_menpo(i)\n",
      "    \n",
      "    labeller(i, 'PTS', ibug_face_66)\n",
      "    i.crop_to_landmarks_proportion_inplace(0.5, group='PTS')\n",
      "    if i.n_channels == 3:\n",
      "        i = i.as_greyscale(mode='average')\n",
      "    training_images.append(i)"
     ],
     "language": "python",
     "metadata": {},
     "outputs": []
    },
    {
     "cell_type": "code",
     "collapsed": false,
     "input": [
      "from menpo.visualize import visualize_images\n",
      "\n",
      "visualize_images(training_images)"
     ],
     "language": "python",
     "metadata": {},
     "outputs": []
    },
    {
     "cell_type": "heading",
     "level": 2,
     "metadata": {},
     "source": [
      "Load test data"
     ]
    },
    {
     "cell_type": "code",
     "collapsed": false,
     "input": [
      "import menpo.io as mio\n",
      "from menpo.landmark import labeller, ibug_face_66\n",
      "from menpofast.utils import convert_from_menpo\n",
      "\n",
      "test_images = []\n",
      "for i in mio.import_images('/data/PhD/DataBases/faces/lfpw/testset/', verbose=True, max_images=10):\n",
      "    \n",
      "    # convert the image from menpo Image to menpofast Image (channels at front)\n",
      "    i = convert_from_menpo(i)\n",
      "    \n",
      "    i.rescale_landmarks_to_diagonal_range(200)\n",
      "    i.crop_to_landmarks_proportion_inplace(0.5)\n",
      "    labeller(i, 'PTS', ibug_face_66)\n",
      "    if i.n_channels == 3:\n",
      "        i = i.as_greyscale(mode='average')\n",
      "    test_images.append(i)"
     ],
     "language": "python",
     "metadata": {},
     "outputs": []
    },
    {
     "cell_type": "code",
     "collapsed": false,
     "input": [
      "from menpo.visualize import visualize_images\n",
      "\n",
      "visualize_images(test_images)"
     ],
     "language": "python",
     "metadata": {},
     "outputs": []
    },
    {
     "cell_type": "heading",
     "level": 2,
     "metadata": {},
     "source": [
      "Active Pictorial Structure"
     ]
    },
    {
     "cell_type": "heading",
     "level": 4,
     "metadata": {},
     "source": [
      "Build"
     ]
    },
    {
     "cell_type": "code",
     "collapsed": false,
     "input": [
      "from menpofast.feature import no_op, aam_dsift\n",
      "from antonakoscvpr2015.menpofast.builder import APSBuilder\n",
      "\n",
      "aps = APSBuilder(adjacency_array=None, \n",
      "                 root_vertex=None, \n",
      "                 patch_shape=(17, 17),\n",
      "                 features=aam_dsift, \n",
      "                 normalization_diagonal=100,\n",
      "                 n_levels=2, \n",
      "                 downscale=2, \n",
      "                 scaled_shape_models=False,\n",
      "                 max_shape_components=25,\n",
      "                 n_appearance_parameters=50,\n",
      "                 use_procrustes=True,\n",
      "                 gaussian_per_patch=True).build(training_images, \n",
      "                                                group='ibug_face_66', \n",
      "                                                verbose=True)"
     ],
     "language": "python",
     "metadata": {},
     "outputs": []
    },
    {
     "cell_type": "code",
     "collapsed": false,
     "input": [
      "from menpofast.image import Image\n",
      "\n",
      "Image(aps.appearance_models[0][0][37, 0, : , ...]).view()"
     ],
     "language": "python",
     "metadata": {},
     "outputs": []
    },
    {
     "cell_type": "code",
     "collapsed": false,
     "input": [
      "aps.appearance_models[0][0].shape"
     ],
     "language": "python",
     "metadata": {},
     "outputs": []
    },
    {
     "cell_type": "heading",
     "level": 4,
     "metadata": {},
     "source": [
      "Test"
     ]
    },
    {
     "cell_type": "code",
     "collapsed": false,
     "input": [
      "sampling_mask = np.require(np.zeros((17, 17)), dtype=np.bool)\n",
      "sampling_mask[2::4, 2::4] = True\n",
      "sampling_mask[:] = True\n",
      "\n",
      "imshow(sampling_mask)"
     ],
     "language": "python",
     "metadata": {},
     "outputs": []
    },
    {
     "cell_type": "code",
     "collapsed": false,
     "input": [
      "from antonakoscvpr2015.menpofast.fitter import LucasKanadeAPSFitter\n",
      "from antonakoscvpr2015.menpofast.algorithm import Forward, Inverse\n",
      "                  \n",
      "fitter = LucasKanadeAPSFitter(aps, algorithm=Inverse, n_shape=[3, 10], \n",
      "                              sampling_mask=sampling_mask)"
     ],
     "language": "python",
     "metadata": {},
     "outputs": []
    },
    {
     "cell_type": "code",
     "collapsed": false,
     "input": [
      "np.random.seed(seed=1)\n",
      "\n",
      "fitting_results = []\n",
      "\n",
      "for j, i in enumerate(test_images):\n",
      "    \n",
      "    gt_s = i.landmarks['ibug_face_66'].lms\n",
      "    s = fitter.perturb_shape(gt_s, noise_std=0.04)\n",
      "    \n",
      "    fr = fitter.fit(i, s, gt_shape=gt_s, max_iters=20)\n",
      "    \n",
      "    fitting_results.append(fr)\n",
      "    \n",
      "    print 'Image: ', j\n",
      "    #print fr"
     ],
     "language": "python",
     "metadata": {},
     "outputs": []
    },
    {
     "cell_type": "code",
     "collapsed": false,
     "input": [
      "from menpofit.visualize import visualize_fitting_results\n",
      "\n",
      "visualize_fitting_results(fitting_results)"
     ],
     "language": "python",
     "metadata": {},
     "outputs": []
    },
    {
     "cell_type": "heading",
     "level": 2,
     "metadata": {},
     "source": [
      "Timings"
     ]
    },
    {
     "cell_type": "heading",
     "level": 4,
     "metadata": {},
     "source": [
      "Total"
     ]
    },
    {
     "cell_type": "code",
     "collapsed": false,
     "input": [
      "%timeit fitter.fit(i, s, gt_shape=gt_s, max_iters=20)"
     ],
     "language": "python",
     "metadata": {},
     "outputs": []
    },
    {
     "cell_type": "heading",
     "level": 4,
     "metadata": {},
     "source": [
      "Per line"
     ]
    },
    {
     "cell_type": "code",
     "collapsed": false,
     "input": [
      "import line_profiler\n",
      "import IPython\n",
      "\n",
      "ip = IPython.get_ipython()\n",
      "ip.define_magic('lprun', line_profiler.magic_lprun)"
     ],
     "language": "python",
     "metadata": {},
     "outputs": []
    },
    {
     "cell_type": "code",
     "collapsed": false,
     "input": [
      "from antonakoscvpr2015.menpofast.algorithm import Forward, Inverse\n",
      "\n",
      "%lprun -f Inverse.run fitter.fit(i, s, gt_shape=gt_s, max_iters=20)"
     ],
     "language": "python",
     "metadata": {},
     "outputs": []
    }
   ],
   "metadata": {}
  }
 ]
}